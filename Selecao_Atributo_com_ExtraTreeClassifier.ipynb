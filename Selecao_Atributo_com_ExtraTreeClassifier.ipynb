{
  "nbformat": 4,
  "nbformat_minor": 0,
  "metadata": {
    "colab": {
      "name": "Selecao Atributo com ExtraTreeClassifier.ipynb",
      "provenance": [],
      "authorship_tag": "ABX9TyPjMrVTdOMXsrFCnhiCp7tT",
      "include_colab_link": true
    },
    "kernelspec": {
      "name": "python3",
      "display_name": "Python 3"
    }
  },
  "cells": [
    {
      "cell_type": "markdown",
      "metadata": {
        "id": "view-in-github",
        "colab_type": "text"
      },
      "source": [
        "<a href=\"https://colab.research.google.com/github/htsnet/selecao-atributos-com-extratreesclassifier/blob/master/Selecao_Atributo_com_ExtraTreeClassifier.ipynb\" target=\"_parent\"><img src=\"https://colab.research.google.com/assets/colab-badge.svg\" alt=\"Open In Colab\"/></a>"
      ]
    },
    {
      "cell_type": "markdown",
      "metadata": {
        "id": "PNdOccSNjKnc",
        "colab_type": "text"
      },
      "source": [
        "# ExtraTreeClassifier\n",
        "\n",
        "Avaliação da importância dos atributos com o ExtraTreeClassifier"
      ]
    },
    {
      "cell_type": "markdown",
      "metadata": {
        "id": "3hYuMMjLoLPF",
        "colab_type": "text"
      },
      "source": [
        "##Etapa 1 - Importação de bibliotecas"
      ]
    },
    {
      "cell_type": "code",
      "metadata": {
        "id": "Om6pKevljDli",
        "colab_type": "code",
        "colab": {}
      },
      "source": [
        "from sklearn.datasets import fetch_olivetti_faces\n",
        "from sklearn.ensemble import ExtraTreesClassifier\n",
        "from sklearn.model_selection import train_test_split\n",
        "from sklearn.metrics import accuracy_score\n",
        "import matplotlib.pyplot as plt\n",
        "import numpy as np"
      ],
      "execution_count": 1,
      "outputs": []
    },
    {
      "cell_type": "markdown",
      "metadata": {
        "id": "lKW_PbCpoJpL",
        "colab_type": "text"
      },
      "source": [
        "##Etapa 1 - Carregamento da base de dados e entendimento da estrutura"
      ]
    },
    {
      "cell_type": "code",
      "metadata": {
        "id": "8fHnsi5ejKS-",
        "colab_type": "code",
        "colab": {}
      },
      "source": [
        "#acessa a base de dados de imagens\n",
        "dataset = fetch_olivetti_faces()"
      ],
      "execution_count": 2,
      "outputs": []
    },
    {
      "cell_type": "code",
      "metadata": {
        "id": "LFQ6MT59lXsv",
        "colab_type": "code",
        "colab": {
          "base_uri": "https://localhost:8080/",
          "height": 292
        },
        "outputId": "eb4b4983-7f2f-4238-cf01-cd8ea5add065"
      },
      "source": [
        "#mostra uma determinada imagem\n",
        "plt.matshow(dataset.images[11])"
      ],
      "execution_count": 3,
      "outputs": [
        {
          "output_type": "execute_result",
          "data": {
            "text/plain": [
              "<matplotlib.image.AxesImage at 0x7f1e27d45eb8>"
            ]
          },
          "metadata": {
            "tags": []
          },
          "execution_count": 3
        },
        {
          "output_type": "display_data",
          "data": {
            "image/png": "[encoded data removed]",
            "text/plain": [
              "<Figure size 288x288 with 1 Axes>"
            ]
          },
          "metadata": {
            "tags": [],
            "needs_background": "light"
          }
        }
      ]
    },
    {
      "cell_type": "code",
      "metadata": {
        "id": "WWVfi8zamJhk",
        "colab_type": "code",
        "colab": {
          "base_uri": "https://localhost:8080/",
          "height": 34
        },
        "outputId": "8f88b3b1-56e1-4499-9338-da79d3e99668"
      },
      "source": [
        "dataset.images.shape"
      ],
      "execution_count": 4,
      "outputs": [
        {
          "output_type": "execute_result",
          "data": {
            "text/plain": [
              "(400, 64, 64)"
            ]
          },
          "metadata": {
            "tags": []
          },
          "execution_count": 4
        }
      ]
    },
    {
      "cell_type": "code",
      "metadata": {
        "id": "OOrsb7aHml_1",
        "colab_type": "code",
        "colab": {
          "base_uri": "https://localhost:8080/",
          "height": 34
        },
        "outputId": "98a53203-588e-4a75-b3d4-95914e69bddc"
      },
      "source": [
        "X = dataset.images.reshape([len(dataset.images), -1])\n",
        "X.shape"
      ],
      "execution_count": 5,
      "outputs": [
        {
          "output_type": "execute_result",
          "data": {
            "text/plain": [
              "(400, 4096)"
            ]
          },
          "metadata": {
            "tags": []
          },
          "execution_count": 5
        }
      ]
    },
    {
      "cell_type": "code",
      "metadata": {
        "id": "Hnez7pSMmNPM",
        "colab_type": "code",
        "colab": {
          "base_uri": "https://localhost:8080/",
          "height": 425
        },
        "outputId": "102051e5-eac8-451b-c63c-e13f6ba2834c"
      },
      "source": [
        "#mostra o target do dataset\n",
        "y = dataset.target\n",
        "y"
      ],
      "execution_count": 6,
      "outputs": [
        {
          "output_type": "execute_result",
          "data": {
            "text/plain": [
              "array([ 0,  0,  0,  0,  0,  0,  0,  0,  0,  0,  1,  1,  1,  1,  1,  1,  1,\n",
              "        1,  1,  1,  2,  2,  2,  2,  2,  2,  2,  2,  2,  2,  3,  3,  3,  3,\n",
              "        3,  3,  3,  3,  3,  3,  4,  4,  4,  4,  4,  4,  4,  4,  4,  4,  5,\n",
              "        5,  5,  5,  5,  5,  5,  5,  5,  5,  6,  6,  6,  6,  6,  6,  6,  6,\n",
              "        6,  6,  7,  7,  7,  7,  7,  7,  7,  7,  7,  7,  8,  8,  8,  8,  8,\n",
              "        8,  8,  8,  8,  8,  9,  9,  9,  9,  9,  9,  9,  9,  9,  9, 10, 10,\n",
              "       10, 10, 10, 10, 10, 10, 10, 10, 11, 11, 11, 11, 11, 11, 11, 11, 11,\n",
              "       11, 12, 12, 12, 12, 12, 12, 12, 12, 12, 12, 13, 13, 13, 13, 13, 13,\n",
              "       13, 13, 13, 13, 14, 14, 14, 14, 14, 14, 14, 14, 14, 14, 15, 15, 15,\n",
              "       15, 15, 15, 15, 15, 15, 15, 16, 16, 16, 16, 16, 16, 16, 16, 16, 16,\n",
              "       17, 17, 17, 17, 17, 17, 17, 17, 17, 17, 18, 18, 18, 18, 18, 18, 18,\n",
              "       18, 18, 18, 19, 19, 19, 19, 19, 19, 19, 19, 19, 19, 20, 20, 20, 20,\n",
              "       20, 20, 20, 20, 20, 20, 21, 21, 21, 21, 21, 21, 21, 21, 21, 21, 22,\n",
              "       22, 22, 22, 22, 22, 22, 22, 22, 22, 23, 23, 23, 23, 23, 23, 23, 23,\n",
              "       23, 23, 24, 24, 24, 24, 24, 24, 24, 24, 24, 24, 25, 25, 25, 25, 25,\n",
              "       25, 25, 25, 25, 25, 26, 26, 26, 26, 26, 26, 26, 26, 26, 26, 27, 27,\n",
              "       27, 27, 27, 27, 27, 27, 27, 27, 28, 28, 28, 28, 28, 28, 28, 28, 28,\n",
              "       28, 29, 29, 29, 29, 29, 29, 29, 29, 29, 29, 30, 30, 30, 30, 30, 30,\n",
              "       30, 30, 30, 30, 31, 31, 31, 31, 31, 31, 31, 31, 31, 31, 32, 32, 32,\n",
              "       32, 32, 32, 32, 32, 32, 32, 33, 33, 33, 33, 33, 33, 33, 33, 33, 33,\n",
              "       34, 34, 34, 34, 34, 34, 34, 34, 34, 34, 35, 35, 35, 35, 35, 35, 35,\n",
              "       35, 35, 35, 36, 36, 36, 36, 36, 36, 36, 36, 36, 36, 37, 37, 37, 37,\n",
              "       37, 37, 37, 37, 37, 37, 38, 38, 38, 38, 38, 38, 38, 38, 38, 38, 39,\n",
              "       39, 39, 39, 39, 39, 39, 39, 39, 39])"
            ]
          },
          "metadata": {
            "tags": []
          },
          "execution_count": 6
        }
      ]
    },
    {
      "cell_type": "code",
      "metadata": {
        "id": "T2wmPKGvnnom",
        "colab_type": "code",
        "colab": {
          "base_uri": "https://localhost:8080/",
          "height": 34
        },
        "outputId": "8d7344a4-17a8-4ca5-9995-1030f90081b7"
      },
      "source": [
        "#mostra quantas faces tem no dataset\n",
        "len(np.unique(y))"
      ],
      "execution_count": 7,
      "outputs": [
        {
          "output_type": "execute_result",
          "data": {
            "text/plain": [
              "40"
            ]
          },
          "metadata": {
            "tags": []
          },
          "execution_count": 7
        }
      ]
    },
    {
      "cell_type": "code",
      "metadata": {
        "id": "PRmwWNu0nxeF",
        "colab_type": "code",
        "colab": {}
      },
      "source": [
        "#faz a divisão do dataset em treinamento e teste\n",
        "X_train, X_test, y_train, y_test = train_test_split(X, y, test_size = 0.3, random_state = 0)"
      ],
      "execution_count": 8,
      "outputs": []
    },
    {
      "cell_type": "markdown",
      "metadata": {
        "id": "NjWP7LCEoR1l",
        "colab_type": "text"
      },
      "source": [
        "##Etapa 3 - Modelo sem seleção de atributos"
      ]
    },
    {
      "cell_type": "code",
      "metadata": {
        "id": "9RsDPmBpoXWK",
        "colab_type": "code",
        "colab": {
          "base_uri": "https://localhost:8080/",
          "height": 34
        },
        "outputId": "d2363510-f47f-4ade-da65-eb71006e42f0"
      },
      "source": [
        "model_1 = ExtraTreesClassifier(n_estimators=10)\n",
        "model_1.fit(X_train, y_train)\n",
        "predictions_1 = model_1.predict(X_test)\n",
        "accuracy_score(y_test, predictions_1)"
      ],
      "execution_count": 9,
      "outputs": [
        {
          "output_type": "execute_result",
          "data": {
            "text/plain": [
              "0.75"
            ]
          },
          "metadata": {
            "tags": []
          },
          "execution_count": 9
        }
      ]
    },
    {
      "cell_type": "code",
      "metadata": {
        "id": "jblbzoIdpHNm",
        "colab_type": "code",
        "colab": {
          "base_uri": "https://localhost:8080/",
          "height": 51
        },
        "outputId": "baa0a78b-f9ea-449e-ae3f-64de5230844a"
      },
      "source": [
        "model_1.feature_importances_"
      ],
      "execution_count": 10,
      "outputs": [
        {
          "output_type": "execute_result",
          "data": {
            "text/plain": [
              "array([0.        , 0.        , 0.00119824, ..., 0.        , 0.        ,\n",
              "       0.        ])"
            ]
          },
          "metadata": {
            "tags": []
          },
          "execution_count": 10
        }
      ]
    },
    {
      "cell_type": "markdown",
      "metadata": {
        "id": "ZYT6dIGSpPy-",
        "colab_type": "text"
      },
      "source": [
        "##Etapa 4 - Seleção de atributos"
      ]
    },
    {
      "cell_type": "code",
      "metadata": {
        "id": "ig5PtQlipTIl",
        "colab_type": "code",
        "colab": {
          "base_uri": "https://localhost:8080/",
          "height": 153
        },
        "outputId": "36474d8e-b411-4e24-ccdb-5631ebc35ff8"
      },
      "source": [
        "selection = ExtraTreesClassifier(n_estimators=10)\n",
        "selection.fit(X, y) #aqui passa o arquivo completo e não apenas um dos separados"
      ],
      "execution_count": 11,
      "outputs": [
        {
          "output_type": "execute_result",
          "data": {
            "text/plain": [
              "ExtraTreesClassifier(bootstrap=False, ccp_alpha=0.0, class_weight=None,\n",
              "                     criterion='gini', max_depth=None, max_features='auto',\n",
              "                     max_leaf_nodes=None, max_samples=None,\n",
              "                     min_impurity_decrease=0.0, min_impurity_split=None,\n",
              "                     min_samples_leaf=1, min_samples_split=2,\n",
              "                     min_weight_fraction_leaf=0.0, n_estimators=10, n_jobs=None,\n",
              "                     oob_score=False, random_state=None, verbose=0,\n",
              "                     warm_start=False)"
            ]
          },
          "metadata": {
            "tags": []
          },
          "execution_count": 11
        }
      ]
    },
    {
      "cell_type": "code",
      "metadata": {
        "id": "6autqwUApzm2",
        "colab_type": "code",
        "colab": {}
      },
      "source": [
        "importances = selection.feature_importances_"
      ],
      "execution_count": 12,
      "outputs": []
    },
    {
      "cell_type": "code",
      "metadata": {
        "id": "w2cenD_WqFMO",
        "colab_type": "code",
        "colab": {
          "base_uri": "https://localhost:8080/",
          "height": 34
        },
        "outputId": "10e8da88-899a-4acd-fcbb-fe3036a597e1"
      },
      "source": [
        "importances.shape"
      ],
      "execution_count": 13,
      "outputs": [
        {
          "output_type": "execute_result",
          "data": {
            "text/plain": [
              "(4096,)"
            ]
          },
          "metadata": {
            "tags": []
          },
          "execution_count": 13
        }
      ]
    },
    {
      "cell_type": "code",
      "metadata": {
        "id": "IFzbUjZpqMuu",
        "colab_type": "code",
        "colab": {
          "base_uri": "https://localhost:8080/",
          "height": 34
        },
        "outputId": "0d723ab4-97b8-4bae-f581-5d844e9837c2"
      },
      "source": [
        "importances_graph = importances.reshape(dataset.images[0].shape)\n",
        "importances_graph.shape"
      ],
      "execution_count": 14,
      "outputs": [
        {
          "output_type": "execute_result",
          "data": {
            "text/plain": [
              "(64, 64)"
            ]
          },
          "metadata": {
            "tags": []
          },
          "execution_count": 14
        }
      ]
    },
    {
      "cell_type": "code",
      "metadata": {
        "id": "rr3sWGwPqmj2",
        "colab_type": "code",
        "colab": {
          "base_uri": "https://localhost:8080/",
          "height": 292
        },
        "outputId": "b4f36ed4-ac3f-4e1a-c40e-5e71fe419055"
      },
      "source": [
        "plt.matshow(importances_graph, cmap = plt.cm.hot)"
      ],
      "execution_count": 15,
      "outputs": [
        {
          "output_type": "execute_result",
          "data": {
            "text/plain": [
              "<matplotlib.image.AxesImage at 0x7f1e278544e0>"
            ]
          },
          "metadata": {
            "tags": []
          },
          "execution_count": 15
        },
        {
          "output_type": "display_data",
          "data": {
            "image/png": "[encoded data removed]",
            "text/plain": [
              "<Figure size 288x288 with 1 Axes>"
            ]
          },
          "metadata": {
            "tags": [],
            "needs_background": "light"
          }
        }
      ]
    },
    {
      "cell_type": "code",
      "metadata": {
        "id": "sk4tQJBwIoYX",
        "colab_type": "code",
        "colab": {
          "base_uri": "https://localhost:8080/",
          "height": 34
        },
        "outputId": "6a7856b6-51d8-49fd-b5bd-d9a93d9e8bf4"
      },
      "source": [
        "len(importances)"
      ],
      "execution_count": 22,
      "outputs": [
        {
          "output_type": "execute_result",
          "data": {
            "text/plain": [
              "4096"
            ]
          },
          "metadata": {
            "tags": []
          },
          "execution_count": 22
        }
      ]
    },
    {
      "cell_type": "code",
      "metadata": {
        "id": "j3cdB7XNsdQo",
        "colab_type": "code",
        "colab": {}
      },
      "source": [
        "#procura as importâncias maiores do que 0.001\n",
        "indexes = []\n",
        "for i in range(len(importances)):\n",
        "  if importances[i] >= 0.001:\n",
        "    indexes.append(i)"
      ],
      "execution_count": 16,
      "outputs": []
    },
    {
      "cell_type": "code",
      "metadata": {
        "id": "8O6a3V9rs5lW",
        "colab_type": "code",
        "colab": {
          "base_uri": "https://localhost:8080/",
          "height": 1000
        },
        "outputId": "2c97c3aa-c9b6-4f20-dfad-e1cd015ab0ea"
      },
      "source": [
        "indexes"
      ],
      "execution_count": 17,
      "outputs": [
        {
          "output_type": "execute_result",
          "data": {
            "text/plain": [
              "[5,\n",
              " 7,\n",
              " 12,\n",
              " 15,\n",
              " 18,\n",
              " 22,\n",
              " 24,\n",
              " 25,\n",
              " 29,\n",
              " 32,\n",
              " 33,\n",
              " 35,\n",
              " 46,\n",
              " 49,\n",
              " 56,\n",
              " 61,\n",
              " 73,\n",
              " 74,\n",
              " 76,\n",
              " 78,\n",
              " 82,\n",
              " 85,\n",
              " 91,\n",
              " 93,\n",
              " 107,\n",
              " 111,\n",
              " 115,\n",
              " 119,\n",
              " 120,\n",
              " 121,\n",
              " 122,\n",
              " 136,\n",
              " 141,\n",
              " 147,\n",
              " 149,\n",
              " 156,\n",
              " 158,\n",
              " 159,\n",
              " 163,\n",
              " 168,\n",
              " 169,\n",
              " 170,\n",
              " 185,\n",
              " 186,\n",
              " 194,\n",
              " 198,\n",
              " 202,\n",
              " 203,\n",
              " 205,\n",
              " 208,\n",
              " 210,\n",
              " 213,\n",
              " 214,\n",
              " 215,\n",
              " 218,\n",
              " 221,\n",
              " 227,\n",
              " 231,\n",
              " 234,\n",
              " 240,\n",
              " 246,\n",
              " 250,\n",
              " 267,\n",
              " 276,\n",
              " 277,\n",
              " 284,\n",
              " 290,\n",
              " 291,\n",
              " 305,\n",
              " 306,\n",
              " 313,\n",
              " 361,\n",
              " 370,\n",
              " 387,\n",
              " 391,\n",
              " 394,\n",
              " 399,\n",
              " 414,\n",
              " 419,\n",
              " 426,\n",
              " 427,\n",
              " 430,\n",
              " 439,\n",
              " 442,\n",
              " 443,\n",
              " 445,\n",
              " 458,\n",
              " 461,\n",
              " 465,\n",
              " 479,\n",
              " 485,\n",
              " 490,\n",
              " 491,\n",
              " 497,\n",
              " 516,\n",
              " 523,\n",
              " 529,\n",
              " 531,\n",
              " 552,\n",
              " 553,\n",
              " 554,\n",
              " 558,\n",
              " 559,\n",
              " 578,\n",
              " 595,\n",
              " 596,\n",
              " 597,\n",
              " 598,\n",
              " 619,\n",
              " 623,\n",
              " 631,\n",
              " 637,\n",
              " 641,\n",
              " 642,\n",
              " 643,\n",
              " 650,\n",
              " 656,\n",
              " 661,\n",
              " 673,\n",
              " 685,\n",
              " 688,\n",
              " 709,\n",
              " 710,\n",
              " 713,\n",
              " 716,\n",
              " 720,\n",
              " 723,\n",
              " 738,\n",
              " 749,\n",
              " 751,\n",
              " 757,\n",
              " 761,\n",
              " 770,\n",
              " 778,\n",
              " 785,\n",
              " 790,\n",
              " 800,\n",
              " 810,\n",
              " 819,\n",
              " 824,\n",
              " 833,\n",
              " 837,\n",
              " 847,\n",
              " 848,\n",
              " 851,\n",
              " 853,\n",
              " 857,\n",
              " 881,\n",
              " 890,\n",
              " 907,\n",
              " 908,\n",
              " 925,\n",
              " 926,\n",
              " 936,\n",
              " 940,\n",
              " 961,\n",
              " 967,\n",
              " 968,\n",
              " 977,\n",
              " 1001,\n",
              " 1009,\n",
              " 1015,\n",
              " 1034,\n",
              " 1056,\n",
              " 1057,\n",
              " 1122,\n",
              " 1163,\n",
              " 1226,\n",
              " 1227,\n",
              " 1228,\n",
              " 1258,\n",
              " 1273,\n",
              " 1304,\n",
              " 1312,\n",
              " 1325,\n",
              " 1351,\n",
              " 1352,\n",
              " 1369,\n",
              " 1379,\n",
              " 1427,\n",
              " 1439,\n",
              " 1489,\n",
              " 1508,\n",
              " 1509,\n",
              " 1539,\n",
              " 1542,\n",
              " 1550,\n",
              " 1562,\n",
              " 1573,\n",
              " 1577,\n",
              " 1614,\n",
              " 1615,\n",
              " 1617,\n",
              " 1619,\n",
              " 1625,\n",
              " 1627,\n",
              " 1633,\n",
              " 1635,\n",
              " 1651,\n",
              " 1670,\n",
              " 1673,\n",
              " 1688,\n",
              " 1716,\n",
              " 1735,\n",
              " 1739,\n",
              " 1753,\n",
              " 1770,\n",
              " 1787,\n",
              " 1790,\n",
              " 1795,\n",
              " 1837,\n",
              " 1867,\n",
              " 1869,\n",
              " 1872,\n",
              " 1885,\n",
              " 1896,\n",
              " 1906,\n",
              " 1913,\n",
              " 1928,\n",
              " 1931,\n",
              " 1939,\n",
              " 1946,\n",
              " 1949,\n",
              " 1963,\n",
              " 2001,\n",
              " 2005,\n",
              " 2012,\n",
              " 2029,\n",
              " 2035,\n",
              " 2077,\n",
              " 2091,\n",
              " 2098,\n",
              " 2102,\n",
              " 2121,\n",
              " 2129,\n",
              " 2131,\n",
              " 2136,\n",
              " 2145,\n",
              " 2163,\n",
              " 2179,\n",
              " 2184,\n",
              " 2185,\n",
              " 2192,\n",
              " 2204,\n",
              " 2209,\n",
              " 2222,\n",
              " 2228,\n",
              " 2238,\n",
              " 2246,\n",
              " 2248,\n",
              " 2270,\n",
              " 2293,\n",
              " 2385,\n",
              " 2386,\n",
              " 2391,\n",
              " 2406,\n",
              " 2419,\n",
              " 2439,\n",
              " 2446,\n",
              " 2450,\n",
              " 2484,\n",
              " 2501,\n",
              " 2508,\n",
              " 2514,\n",
              " 2526,\n",
              " 2556,\n",
              " 2569,\n",
              " 2591,\n",
              " 2623,\n",
              " 2632,\n",
              " 2633,\n",
              " 2652,\n",
              " 2657,\n",
              " 2662,\n",
              " 2696,\n",
              " 2717,\n",
              " 2787,\n",
              " 2814,\n",
              " 2821,\n",
              " 2839,\n",
              " 2859,\n",
              " 2875,\n",
              " 2889,\n",
              " 2891,\n",
              " 2894,\n",
              " 2901,\n",
              " 2908,\n",
              " 2933,\n",
              " 2937,\n",
              " 2938,\n",
              " 2953,\n",
              " 3020,\n",
              " 3022,\n",
              " 3054,\n",
              " 3084,\n",
              " 3115,\n",
              " 3123,\n",
              " 3132,\n",
              " 3146,\n",
              " 3197,\n",
              " 3201,\n",
              " 3210,\n",
              " 3248,\n",
              " 3273,\n",
              " 3285,\n",
              " 3291,\n",
              " 3301,\n",
              " 3303,\n",
              " 3313,\n",
              " 3331,\n",
              " 3338,\n",
              " 3340,\n",
              " 3342,\n",
              " 3344,\n",
              " 3356,\n",
              " 3376,\n",
              " 3388,\n",
              " 3394,\n",
              " 3402,\n",
              " 3404,\n",
              " 3408,\n",
              " 3453,\n",
              " 3458,\n",
              " 3466,\n",
              " 3495,\n",
              " 3498,\n",
              " 3499,\n",
              " 3512,\n",
              " 3517,\n",
              " 3522,\n",
              " 3530,\n",
              " 3532,\n",
              " 3606,\n",
              " 3614,\n",
              " 3621,\n",
              " 3622,\n",
              " 3648,\n",
              " 3668,\n",
              " 3675,\n",
              " 3680,\n",
              " 3681,\n",
              " 3689,\n",
              " 3692,\n",
              " 3701,\n",
              " 3712,\n",
              " 3726,\n",
              " 3729,\n",
              " 3732,\n",
              " 3747,\n",
              " 3748,\n",
              " 3751,\n",
              " 3755,\n",
              " 3770,\n",
              " 3777,\n",
              " 3789,\n",
              " 3815,\n",
              " 3831,\n",
              " 3850,\n",
              " 3871,\n",
              " 3881,\n",
              " 3901,\n",
              " 3907,\n",
              " 3921,\n",
              " 3931,\n",
              " 3940,\n",
              " 3966,\n",
              " 3967,\n",
              " 3988,\n",
              " 4020,\n",
              " 4030,\n",
              " 4035,\n",
              " 4041,\n",
              " 4048,\n",
              " 4055,\n",
              " 4079]"
            ]
          },
          "metadata": {
            "tags": []
          },
          "execution_count": 17
        }
      ]
    },
    {
      "cell_type": "code",
      "metadata": {
        "id": "ExCUmLzutBr5",
        "colab_type": "code",
        "colab": {
          "base_uri": "https://localhost:8080/",
          "height": 34
        },
        "outputId": "64dd141b-0871-48a4-dec6-aa1f305b5683"
      },
      "source": [
        "len(indexes)"
      ],
      "execution_count": 18,
      "outputs": [
        {
          "output_type": "execute_result",
          "data": {
            "text/plain": [
              "375"
            ]
          },
          "metadata": {
            "tags": []
          },
          "execution_count": 18
        }
      ]
    },
    {
      "cell_type": "code",
      "metadata": {
        "id": "p63OtUegtFOe",
        "colab_type": "code",
        "colab": {}
      },
      "source": [
        "X_new = X[:, indexes].reshape(len(dataset.images), -1)"
      ],
      "execution_count": 19,
      "outputs": []
    },
    {
      "cell_type": "code",
      "metadata": {
        "id": "mp15FQydtaye",
        "colab_type": "code",
        "colab": {
          "base_uri": "https://localhost:8080/",
          "height": 34
        },
        "outputId": "9ace742b-da05-452d-f799-3d15ca52fdce"
      },
      "source": [
        "X_new.shape"
      ],
      "execution_count": 20,
      "outputs": [
        {
          "output_type": "execute_result",
          "data": {
            "text/plain": [
              "(400, 375)"
            ]
          },
          "metadata": {
            "tags": []
          },
          "execution_count": 20
        }
      ]
    },
    {
      "cell_type": "markdown",
      "metadata": {
        "id": "ge37CHgFthrT",
        "colab_type": "text"
      },
      "source": [
        "#Etapa 5 - Modelo com seleção de atributos"
      ]
    },
    {
      "cell_type": "code",
      "metadata": {
        "id": "AcXECuEJtlzW",
        "colab_type": "code",
        "colab": {
          "base_uri": "https://localhost:8080/",
          "height": 34
        },
        "outputId": "3c0a0a59-1a30-4553-cc2b-b575365d5c10"
      },
      "source": [
        "X_train_new, X_test_new, y_train, y_test = train_test_split(X_new, y, test_size = 0.2, random_state = 0)\n",
        "model_2 = ExtraTreesClassifier(n_estimators=10)\n",
        "model_2.fit(X_train_new, y_train)\n",
        "predictions_2 = model_2.predict(X_test_new)\n",
        "accuracy_score(y_test, predictions_2)"
      ],
      "execution_count": 21,
      "outputs": [
        {
          "output_type": "execute_result",
          "data": {
            "text/plain": [
              "0.8375"
            ]
          },
          "metadata": {
            "tags": []
          },
          "execution_count": 21
        }
      ]
    }
  ]
}